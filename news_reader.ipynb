{
 "cells": [
  {
   "cell_type": "markdown",
   "metadata": {},
   "source": [
    "# Read news from fxstreet"
   ]
  },
  {
   "cell_type": "code",
   "execution_count": 5,
   "metadata": {},
   "outputs": [],
   "source": [
    "import requests\n",
    "from datetime import datetime\n",
    "from bs4 import BeautifulSoup\n",
    "\n",
    "# URL = \"https://www.fxstreet.com/news/gold-price-falls-slightly-from-near-record-highs-ahead-of-fed-powells-testimony-202403061015\"\n",
    "# URL = \"https://www.fxstreet.com/news/forex-today-powell-weighs-on-the-dollar-here-comes-the-ecb-202403061951\"\n",
    "# URL = \"https://www.fxstreet.com/news/gbp-usd-eyes-12800-as-uks-budget-and-powells-comments-lift-the-pound-202403061947\"\n",
    "# URL = \"https://www.fxstreet.com/news/weaker-than-expected-data-to-weigh-more-on-the-usd-than-positive-reports-provide-support-commerzbank-202403071136\"\n",
    "# URL = \"https://www.fxstreet.com/analysis/trading-gold-and-silver-forex-trading-short-on-usd-jpy-video-202403071228?utm_source=telegram&utm_medium=channel&utm_campaign=-1001510625232\"\n",
    "# URL = \"https://www.fxstreet.com/news/european-central-bank-decision-preview-interest-rates-expected-to-remain-unchanged-as-inflation-weakens-202403070800?utm_source=telegram&utm_medium=channel&utm_campaign=-1001510625232\"\n",
    "URL = \"https://www.fxstreet.com/analysis/key-events-in-developed-markets-next-week-202403081258\"\n",
    "page = requests.get(URL)"
   ]
  },
  {
   "cell_type": "markdown",
   "metadata": {},
   "source": [
    "## Use BeautifulSoup to extract contents from the page"
   ]
  },
  {
   "cell_type": "code",
   "execution_count": 6,
   "metadata": {},
   "outputs": [
    {
     "name": "stdout",
     "output_type": "stream",
     "text": [
      "2024-03-07 14:29:45 Week 10\n",
      "Path: .news/2024/week10/european-central-bank-decision-preview-interest-rates-expected-to-remain-unchanged-as-inflation-weakens-202403070800.md\n",
      "URL: european-central-bank-decision-preview-interest-rates-expected-to-remain-unchanged-as-inflation-weakens-202403070800\n",
      "Time: 2024-03-07 14:29:45\n",
      "headline: ECB Press Conference: Lagarde speaks on policy outlook following decision to leave key rates unchanged\n",
      "Christine Lagarde, President of the European Central Bank (ECB), explains the ECB's decision to leave the key interest rates unchanged in March and responds to questions from the press.\n",
      "Follow the ECB Live Coverage\n",
      "# ECB press conference key quotes\n",
      "\"Surveys point to a gradual recovery over the course of this year.\"\n",
      "\"Impact of past rate increases will gradually fade.\"\n",
      "\"Demand for labour is slowing.\"\n",
      "\"Domestic price pressures are elevated.\"\n",
      "\"There are signs that growth in wages is starting to moderate.\"\n",
      "\"Inflation is expected to continue the downward trend in coming months.\"\n",
      "\"Longer-term inflation expectations broadly stable around 2%.\"\n",
      "\"Risks to economic growth remain tilted to the downside.\"\n",
      "\"We're making progress in disinflationary process.\"\n",
      "\"We're more confident about hitting goal, but not sufficiently confident.\"\n",
      "\"Data will come in next few months, we will know a lot more in June.\"\n",
      "\"Broad agreement we won't change view on single data point.\"\n",
      "\"Particularly vigilant about wages and profits.\"\n",
      "\"Only underlying indicator that isn't declining is domestic inflation.\"\n",
      "\"We will not wait until we are at 2% to make a decision.\"\n",
      "\"Market expectations seem to be converging better.\"\n",
      "\"We discussed framework, my strong expectation is that it will be completed on March 13.\"\n",
      "\"We have not discussed rate cuts at this meeting.\"\n",
      "\"We have just begun discussing the dialing back of our restrictive stance.\"\n",
      "\"It matters that we have more data in June.\"\n",
      "This section below was published at 13:15 GMT to cover the European Central Bank's policy announcements and the immediate market reaction.\n",
      "The European Central Bank (ECB) announced on Thursday that it left key rates unchanged following the March policy meeting. With this decision, the interest rate on the main refinancing operations and the interest rates on the marginal lending facility and the deposit facility will stay at 4.50%, 4.75% and 4.00%, respectively.\n",
      "In the ECB Staff Projections released alongside the policy statement, the ECB noted that inflation has been revised down, in particular for 2024, which mainly reflects a lower contribution from energy prices.\n",
      "# ECB Staff Projections\n",
      "\"Staff now project inflation to average 2.3% in 2024, 2.0% in 2025 and 1.9% in 2026.\"\n",
      "\"Projections for inflation excluding energy and food have also been revised down and average 2.6% for 2024, 2.1% for 2025 and 2.0% for 2026.\"\n",
      "\"Staff have revised down their growth projection for 2024 to 0.6%, with economic activity expected to remain subdued in near term.\"\n",
      "\"Thereafter, staff expect economy to pick up and to grow at 1.5% in 2025 and 1.6% in 2026, supported initially by consumption and later also by investment.\"\n",
      "# Key takeaways from ECB policy statement\n",
      "\"Financing conditions are restrictive and past interest rate increases continue to weigh on demand, which is helping push down inflation.\"\n",
      "\"Based on the current assessment, ECB considers that interest rates are at levels that, maintained for a sufficiently long duration, will make a substantial contribution to this goal.\"\n",
      "\"Future decisions will ensure that policy rates will be set at sufficiently restrictive levels for as long as necessary.\"\n",
      "\"In particular, ECB’s interest rate decisions will be based on its assessment of inflation outlook in light of incoming economic and financial data, dynamics of underlying inflation and strength of monetary policy transmission.\"\n",
      "\"APP and Pandemic Emergency Purchase Programme (PEPP) APP portfolio is declining at a measured and predictable pace, as Eurosystem no longer reinvests principal payments from maturing securities.\"\n",
      "\"ECB intends to continue to reinvest, in full, principal payments from maturing securities purchased under pepp during first half of 2024.\"\n",
      "\"Over second half of year, ECB intends to reduce PEPP portfolio by €7.5 billion per month on average.\"\n",
      "\"ECB intends to discontinue reinvestments under PEPP at end of 2024.\"\n",
      "\"ECB will continue applying flexibility in reinvesting redemptions coming due in PEPPportfolio, with a view to countering risks to monetary policy transmission mechanism related to pandemic.\n",
      "Market reaction to ECB policy announcements\n",
      "EUR/USD edged lower with the immediate reaction and the pair was last seen losing 0.17% on the day at 1.0880.\n",
      "This section below was published as a preview of the European Central Bank policy announcements at 08:00 GMT.\n",
      "* The European Central Bank is set to hold interest rates for the fourth meeting in a row.\n",
      "* ECB President Christine Lagarde could dismiss early rate cut expectations once again.\n",
      "* The Euro’s reaction is likely to depend on the ECB’s updated forecasts and Lagarde’s speech.\n",
      "The European Central Bank (ECB) is widely expected to keep the key interest rates on hold for the fourth policy meeting in a row, in a decision that will be published on Thursday at 13:15 GMT.\n",
      "The policy announcements will be accompanied by the updated economic projections, followed by ECB President Christine Lagarde’s press conference at 13:45 GMT.\n",
      "# What to expect from the European Central Bank interest rate decision?\n",
      "Economists are expecting the ECB to keep its three key interest rates steady, with the benchmark Deposit Rate at 4.0%, following the conclusion of the Governing Council’s March monetary policy meeting.\n",
      "The central bank is likely to downgrade its forecasts for inflation and growth in its staff projections. The economic forecasts unveiled at the December meeting showed that the ECB estimated GDP to expand by 0.8% in 2024 from 1% previously estimated. Headline inflation was expected to average 2.7% in 2024 and 2.1% in 2025. The Bank had previously forecast price growth of 3.2% in 2024 and 2.1% in 2025.\n",
      "Data published by Eurostat showed on Friday that the Eurozone annual Harmonised Index of Consumer Prices (HICP) rose 2.6% in February, cooling from a 2.8% increase in January but above the expected 2.5% growth in the reported period. The Core HICP inflation declined to 3.1% YoY in February, compared with January’s 3.3% reading while beating expectations of 2.9%.\n",
      "Further, ECB’s closely watched indicator of the Euro area’s negotiated wages grew at an annual rate of 4.50% in Q4 2023, slowing from a 4.70% increase in the third quarter.\n",
      "With inflationary pressures easing and many ECB policymakers making it clear they want to see a further deceleration in wage growth, money markets are pricing in an interest rate cut for the June meeting, as against the previous expectations of a September rate cut.\n",
      "Speaking in a Bloomberg interview on the sidelines of the World Economic Forum (WEF) Annual Meeting in Davos, back in January, ECB President Christine Lagarde said, “it is likely that we will cut rates by the summer.”\n",
      "However, when asked about the timing of cuts at the post-policy meeting press conference a week later, Lagarde said that the central bank was “data dependent, not time dependent.”\n",
      "That said, Lagarde is likely to maintain its hawkish bias until the Eurozone indicator of negotiated wage rate for the first quarter is released on May 23.\n",
      "Testifying before the European Parliament last month, President Lagarde said \"our restrictive monetary policy stance, the ensuing strong decline in headline inflation and firmly anchored longer-term inflation expectations act as a safeguard against a sustained wage-price spiral.”\n",
      "# How could the ECB meeting impact EUR/USD?\n",
      "In a scenario where Lagarde sticks to the Bank’s “data-dependent approach”, pushing back against expectations of an early policy pivot, the Euro is likely to attract a strong bid against the US Dollar, as the markets would perceive it as a hawkish hold.\n",
      "However, a dovish shift in Lagarde’s tone, acknowledging softening wage pressures, could take the wind out of the recent EUR/USD recovery.\n",
      "Her comments will hold the key for determining the timing and scope of future interest rate cuts, significantly impacting the value of the main currency pair.\n",
      "Dhwani Mehta, FXStreet’s Senior Analyst, offers a brief technical outlook for trading the Euro on the ECB policy announcements: “The EUR/USD pair broke through the critical 50-day Simple Moving Average (SMA) at 1.0857 on Wednesday, opening the door for further upside. The 14-day Relative Strength Index (RSI) holds comfortable above the midline, backing the pair’s bullish potential.”\n",
      "“Acceptance above the 1.0950 level is likely to refuel the upside momentum toward the 1.1000 psychological level. EUR buyers will then aim for the 1.1050 key level. Conversely, the initial demand area is seen around the 50-day SMA at 1.0857, below which a test of the 1.0835 support will be inevitable. That level is the confluence of the 100- and 200-day SMAs. Further south, the 21-day SMA at 1.0811 could come to the rescue of EUR/USD,” Dhwani adds.\n"
     ]
    }
   ],
   "source": [
    "soup = BeautifulSoup(page.content, \"html.parser\")\n",
    "\n",
    "section = soup.find('section')\n",
    "headline = section.find('h1').text\n",
    "time = datetime.strptime(section.find('time').text, \"%m/%d/%Y %H:%M:%S %Z\")\n",
    "\n",
    "print(f\"{time} Week {time.isocalendar().week}\")\n",
    "\n",
    "url = section['fxs_it_url']\n",
    "\n",
    "path = f\".news/{time.year}/{time.isocalendar().week}/{url}.md\"\n",
    "\n",
    "print(f\"Path: {path}\")\n",
    "\n",
    "print(f\"URL: {url}\")\n",
    "print(f\"Time: {time}\")\n",
    "print(f\"headline: {headline}\")\n",
    "\n",
    "content = soup.find(id=\"fxs_article_content\")\n",
    "for c in content.children:\n",
    "        if c.name is None:\n",
    "                continue\n",
    "        if c.name != 'h2' and c.get('class') is not None:\n",
    "                continue\n",
    "        if c.name == 'ul':\n",
    "                lis = c.find_all('li')\n",
    "                for li in lis:\n",
    "                        print(f\"* {li.text.rstrip().lstrip()}\")\n",
    "        text = c.text.rstrip().lstrip()\n",
    "\n",
    "        if len(text) > 0 and c.name == 'h2':\n",
    "                print(f\"# {text}\")\n",
    "        if len(text) > 0 and (c.name == 'p' or c.name == 'blockquote'):\n",
    "                print(f\"{text}\")\n"
   ]
  }
 ],
 "metadata": {
  "kernelspec": {
   "display_name": ".venv",
   "language": "python",
   "name": "python3"
  },
  "language_info": {
   "codemirror_mode": {
    "name": "ipython",
    "version": 3
   },
   "file_extension": ".py",
   "mimetype": "text/x-python",
   "name": "python",
   "nbconvert_exporter": "python",
   "pygments_lexer": "ipython3",
   "version": "3.12.1"
  }
 },
 "nbformat": 4,
 "nbformat_minor": 2
}
